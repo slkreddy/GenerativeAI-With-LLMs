{
 "cells": [
  {
   "cell_type": "code",
   "execution_count": 1,
   "id": "e1f30073-c17b-46af-8291-47aea0d297ca",
   "metadata": {},
   "outputs": [
    {
     "name": "stdout",
     "output_type": "stream",
     "text": [
      "Summary: the T5 model, which stands for Text-to-Text Transfer Transformer, converts all NLP tasks into a text-to-text format. it allows it to be used for tasks like translation, summarization, question answering, and more.\n"
     ]
    }
   ],
   "source": [
    "from transformers import AutoTokenizer, AutoModelForSeq2SeqLM\n",
    "\n",
    "model_name = \"t5-small\"\n",
    "\n",
    "# Load the tokenizer and model\n",
    "tokenizer = AutoTokenizer.from_pretrained(model_name)\n",
    "model = AutoModelForSeq2SeqLM.from_pretrained(model_name)\n",
    "\n",
    "# Example function for summarization\n",
    "def summarize_text(text):\n",
    "    inputs = tokenizer(f\"summarize: {text}\", return_tensors=\"pt\", max_length=512, truncation=True)\n",
    "    outputs = model.generate(inputs[\"input_ids\"], max_length=150, min_length=50, length_penalty=2.0, num_beams=4)\n",
    "    summary = tokenizer.decode(outputs[0], skip_special_tokens=True)\n",
    "    return summary\n",
    "\n",
    "# Test\n",
    "text = (\"The T5 model, which stands for Text-to-Text Transfer Transformer, is a model designed to handle a wide range of NLP tasks. \"\n",
    "        \"It converts all NLP tasks into a text-to-text format, which allows it to be used for tasks like translation, summarization, question answering, and more.\")\n",
    "print(\"Summary:\", summarize_text(text))\n"
   ]
  }
 ],
 "metadata": {
  "kernelspec": {
   "display_name": "Python 3 (ipykernel)",
   "language": "python",
   "name": "python3"
  },
  "language_info": {
   "codemirror_mode": {
    "name": "ipython",
    "version": 3
   },
   "file_extension": ".py",
   "mimetype": "text/x-python",
   "name": "python",
   "nbconvert_exporter": "python",
   "pygments_lexer": "ipython3",
   "version": "3.9.10"
  }
 },
 "nbformat": 4,
 "nbformat_minor": 5
}
