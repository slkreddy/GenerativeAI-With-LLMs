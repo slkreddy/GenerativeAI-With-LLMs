{
 "cells": [
  {
   "cell_type": "code",
   "execution_count": 14,
   "id": "f6bf5816-89c7-4adc-b22b-80b76302acb6",
   "metadata": {
    "scrolled": true
   },
   "outputs": [
    {
     "name": "stdout",
     "output_type": "stream",
     "text": [
      "Requirement already satisfied: mistralai in c:\\users\\91998\\pycharmprojects\\pythonproject\\venv\\lib\\site-packages (0.4.2)\n",
      "Requirement already satisfied: httpx<1,>=0.25 in c:\\users\\91998\\pycharmprojects\\pythonproject\\venv\\lib\\site-packages (from mistralai) (0.27.0)\n",
      "Requirement already satisfied: orjson<3.11,>=3.9.10 in c:\\users\\91998\\pycharmprojects\\pythonproject\\venv\\lib\\site-packages (from mistralai) (3.10.6)\n",
      "Requirement already satisfied: pydantic<3,>=2.5.2 in c:\\users\\91998\\pycharmprojects\\pythonproject\\venv\\lib\\site-packages (from mistralai) (2.8.2)\n",
      "Requirement already satisfied: anyio in c:\\users\\91998\\pycharmprojects\\pythonproject\\venv\\lib\\site-packages (from httpx<1,>=0.25->mistralai) (4.4.0)\n",
      "Requirement already satisfied: certifi in c:\\users\\91998\\pycharmprojects\\pythonproject\\venv\\lib\\site-packages (from httpx<1,>=0.25->mistralai) (2024.7.4)\n",
      "Requirement already satisfied: httpcore==1.* in c:\\users\\91998\\pycharmprojects\\pythonproject\\venv\\lib\\site-packages (from httpx<1,>=0.25->mistralai) (1.0.5)\n",
      "Requirement already satisfied: idna in c:\\users\\91998\\pycharmprojects\\pythonproject\\venv\\lib\\site-packages (from httpx<1,>=0.25->mistralai) (3.7)\n",
      "Requirement already satisfied: sniffio in c:\\users\\91998\\pycharmprojects\\pythonproject\\venv\\lib\\site-packages (from httpx<1,>=0.25->mistralai) (1.3.1)\n",
      "Requirement already satisfied: h11<0.15,>=0.13 in c:\\users\\91998\\pycharmprojects\\pythonproject\\venv\\lib\\site-packages (from httpcore==1.*->httpx<1,>=0.25->mistralai) (0.14.0)\n",
      "Requirement already satisfied: annotated-types>=0.4.0 in c:\\users\\91998\\pycharmprojects\\pythonproject\\venv\\lib\\site-packages (from pydantic<3,>=2.5.2->mistralai) (0.7.0)\n",
      "Requirement already satisfied: pydantic-core==2.20.1 in c:\\users\\91998\\pycharmprojects\\pythonproject\\venv\\lib\\site-packages (from pydantic<3,>=2.5.2->mistralai) (2.20.1)\n",
      "Requirement already satisfied: typing-extensions>=4.6.1 in c:\\users\\91998\\pycharmprojects\\pythonproject\\venv\\lib\\site-packages (from pydantic<3,>=2.5.2->mistralai) (4.12.2)\n",
      "Requirement already satisfied: exceptiongroup>=1.0.2 in c:\\users\\91998\\pycharmprojects\\pythonproject\\venv\\lib\\site-packages (from anyio->httpx<1,>=0.25->mistralai) (1.2.2)\n"
     ]
    },
    {
     "name": "stderr",
     "output_type": "stream",
     "text": [
      "\n",
      "[notice] A new release of pip is available: 24.1.2 -> 24.2\n",
      "[notice] To update, run: python.exe -m pip install --upgrade pip\n"
     ]
    }
   ],
   "source": [
    "!pip install mistralai"
   ]
  },
  {
   "cell_type": "code",
   "execution_count": 10,
   "id": "6911f4b9-3919-4033-ab7c-44a6701c1fde",
   "metadata": {},
   "outputs": [
    {
     "name": "stdout",
     "output_type": "stream",
     "text": [
      "To translate the text \"What is max salary of all employees\" into SQL, you would typically use the `MAX` function to find the highest salary value from the employees table. Assuming the table is named `employees` and the column for salary is named `salary`, the SQL query would look like this:\n",
      "\n",
      "```sql\n",
      "SELECT MAX(salary) AS max_salary\n",
      "FROM employees;\n",
      "```\n",
      "\n",
      "This query selects the maximum value from the `salary` column and labels it as `max_salary`.\n"
     ]
    }
   ],
   "source": [
    "import os\n",
    "from mistralai.client import MistralClient\n",
    "from mistralai.models.chat_completion import ChatMessage\n",
    "\n",
    "api_key = \"3sNdi33XeLjkzuZKM5moBQmS27jhm8tN\"\n",
    "model = \"mistral-large-latest\"\n",
    "\n",
    "client = MistralClient(api_key=api_key)\n",
    "\n",
    "chat_response = client.chat(\n",
    "    model=model,\n",
    "    messages=[ChatMessage(role=\"user\", content=\"translate text to SQL: What is max salary of all employees\")]\n",
    ")\n",
    "\n",
    "print(chat_response.choices[0].message.content)"
   ]
  },
  {
   "cell_type": "code",
   "execution_count": 11,
   "id": "b1abec0f-af4e-4a5d-92dd-4d3e056a650f",
   "metadata": {},
   "outputs": [],
   "source": [
    "prompt = \"\"\"\n",
    "    You are a bank customer service bot. \n",
    "    Your task is to assess customer intent and categorize customer \n",
    "    inquiry after <<<>>> into one of the following predefined categories:\n",
    "    \n",
    "    card arrival\n",
    "    change pin\n",
    "    exchange rate\n",
    "    country support \n",
    "    cancel transfer\n",
    "    charge dispute\n",
    "    \n",
    "    If the text doesn't fit into any of the above categories, \n",
    "    classify it as:\n",
    "    customer service\n",
    "    \n",
    "    You will only respond with the predefined category. \n",
    "    Do not provide explanations or notes. \n",
    "    \n",
    "    ###\n",
    "    Here are some examples:\n",
    "    \n",
    "    Inquiry: How do I know if I will get my card, or if it is lost? I am concerned about the delivery process and would like to ensure that I will receive my card as expected. Could you please provide information about the tracking process for my card, or confirm if there are any indicators to identify if the card has been lost during delivery?\n",
    "    Category: card arrival\n",
    "    Inquiry: I am planning an international trip to Paris and would like to inquire about the current exchange rates for Euros as well as any associated fees for foreign transactions.\n",
    "    Category: exchange rate \n",
    "    Inquiry: What countries are getting support? I will be traveling and living abroad for an extended period of time, specifically in France and Germany, and would appreciate any information regarding compatibility and functionality in these regions.\n",
    "    Category: country support\n",
    "    Inquiry: Can I get help starting my computer? I am having difficulty starting my computer, and would appreciate your expertise in helping me troubleshoot the issue. \n",
    "    Category: customer service\n",
    "    ###\n",
    "    \n",
    "    <<<\n",
    "    Inquiry: {inquiry}\n",
    "    >>>\n",
    "    Category:\n",
    "\"\"\""
   ]
  },
  {
   "cell_type": "code",
   "execution_count": 24,
   "id": "18c9cce4-e22f-4da0-b7b1-7bdea42d0d5e",
   "metadata": {},
   "outputs": [],
   "source": [
    "import os\n",
    "from mistralai.client import MistralClient\n",
    "from mistralai.models.chat_completion import ChatMessage\n",
    "\n",
    "def mistral(user_message, model=\"mistral-small-latest\", is_json=False):\n",
    "    client = MistralClient(api_key=api_key)\n",
    "    messages = [ChatMessage(role=\"user\", content=user_message)]\n",
    "\n",
    "    if is_json:\n",
    "        chat_response = client.chat(\n",
    "            model=model, messages=messages, response_format={\"type\": \"json_object\"}\n",
    "        )\n",
    "    else:\n",
    "        chat_response = client.chat(model=model, messages=messages)\n",
    "\n",
    "    return chat_response.choices[0].message.content"
   ]
  },
  {
   "cell_type": "code",
   "execution_count": 22,
   "id": "a3752472-161c-4a1d-8c61-e82a3ab5b453",
   "metadata": {},
   "outputs": [],
   "source": [
    "prompt = \"\"\"\n",
    "Classify the following email to determine if it is spam or not.\n",
    "Only respond with the exact text \"Spam\" or \"Not Spam\". \n",
    "\n",
    "# Email:\n",
    "🎉 Urgent! You've Won a $1,000,000 Cash Prize! \n",
    "💰 To claim your prize, please click on the link below: \n",
    "https://bit.ly/claim-your-prize\n",
    "\"\"\""
   ]
  },
  {
   "cell_type": "code",
   "execution_count": 25,
   "id": "93d2dc48-b215-405f-a6fc-8794d4474d37",
   "metadata": {},
   "outputs": [
    {
     "data": {
      "text/plain": [
       "'Spam'"
      ]
     },
     "execution_count": 25,
     "metadata": {},
     "output_type": "execute_result"
    }
   ],
   "source": [
    "mistral(prompt, model=\"mistral-small-latest\")"
   ]
  },
  {
   "cell_type": "code",
   "execution_count": 27,
   "id": "5e8e07e3-faf0-453b-a433-dc0d4bb5bc78",
   "metadata": {},
   "outputs": [],
   "source": [
    "prompt = \"\"\"\n",
    "Compose a welcome email for new customers who have just made their first purchase with your product. \n",
    "Start bu gratitude for their business and then convey your excitement for having them as customer. \n",
    "Include relevant details about their recent order. \n",
    "\n",
    "Order Details: \n",
    "- Customer name: Anwish Reddy\n",
    "- Product: SS Ba\n",
    "- Estimate date of delivery: Aug. 15, 2024\n",
    "- Return Policy: 30 days\n",
    "\"\"\""
   ]
  },
  {
   "cell_type": "code",
   "execution_count": 28,
   "id": "9897d47b-6cbc-4ca1-afd2-066a3c962194",
   "metadata": {},
   "outputs": [],
   "source": [
    "response_medium = mistral(prompt, model=\"mistral-medium-latest\")"
   ]
  },
  {
   "cell_type": "code",
   "execution_count": 29,
   "id": "f7a49137-fb5a-4db1-b03d-5343a6c40955",
   "metadata": {},
   "outputs": [
    {
     "name": "stdout",
     "output_type": "stream",
     "text": [
      "Dear Anwish Reddy,\n",
      "\n",
      "We are thrilled to welcome you to our community of valued customers! We are grateful for your decision to choose our product for your needs, and we are excited to have you on board.\n",
      "\n",
      "We wanted to take a moment to confirm the details of your recent order:\n",
      "\n",
      "Product: SS Ba\n",
      "Estimated Delivery Date: Aug. 15, 2024\n",
      "\n",
      "We are committed to ensuring that your order is delivered to you on time and in perfect condition. Our team is working hard to make sure that everything runs smoothly and that your product meets your expectations.\n",
      "\n",
      "We also want to remind you of our return policy. If for any reason you are not satisfied with your purchase, you have 30 days from the date of delivery to return the product for a full refund or exchange. We believe in the quality of our products and we stand behind them.\n",
      "\n",
      "Once again, thank you for choosing us. We look forward to serving you and making your experience with us a positive one. If you have any questions or concerns, please do not hesitate to reach out to our customer service team.\n",
      "\n",
      "Best regards,\n",
      "\n",
      "[Your Name]\n",
      "[Your Title]\n",
      "[Your Company]\n",
      "\n",
      "Confidence: 90%\n"
     ]
    }
   ],
   "source": [
    "print(response_medium)"
   ]
  },
  {
   "cell_type": "code",
   "execution_count": 30,
   "id": "4ce5060d-29d4-4595-b3bf-2b643372b14f",
   "metadata": {},
   "outputs": [],
   "source": [
    "prompt = \"\"\"\n",
    "Calculate the difference of payment dates between two \\\n",
    "customers whose payment amounts are closest to each other \\\n",
    "Dataset is below. Do not write code. \n",
    "\n",
    "#dataset: \n",
    "'{\n",
    "   \"transaction_id\":{\"0\":\"T1001\",\"1\":\"T1002\",\"2\":\"T1003\",\"3\":\"T1004\",\"4\":\"T1005\"},\n",
    "    \"customer_id\":{\"0\":\"C001\",\"1\":\"C002\",\"2\":\"C003\",\"3\":\"C002\",\"4\":\"C001\"},\n",
    "    \"payment_amount\":{\"0\":125.5,\"1\":89.99,\"2\":120.0,\"3\":54.3,\"4\":210.2},\n",
    "\"payment_date\":{\"0\":\"2021-10-05\",\"1\":\"2021-10-06\",\"2\":\"2021-10-07\",\"3\":\"2021-10-05\",\"4\":\"2021-10-08\"},\n",
    "    \"payment_status\":{\"0\":\"Paid\",\"1\":\"Unpaid\",\"2\":\"Paid\",\"3\":\"Paid\",\"4\":\"Pending\"}\n",
    "\n",
    "}'\n",
    "\n",
    "\"\"\""
   ]
  },
  {
   "cell_type": "code",
   "execution_count": 31,
   "id": "ebc0ba6f-68ce-412f-8c06-7fd50dee37d4",
   "metadata": {},
   "outputs": [],
   "source": [
    "response_large = mistral(prompt, \"mistral-small-latest\")"
   ]
  },
  {
   "cell_type": "code",
   "execution_count": 32,
   "id": "b8423148-065d-4e3d-b8b3-1156774613b0",
   "metadata": {},
   "outputs": [
    {
     "name": "stdout",
     "output_type": "stream",
     "text": [
      "First, let's identify the two customers whose payment amounts are closest to each other. From the dataset, the payment amounts are: 125.5, 89.99, 120.0, 54.3, 210.2. The closest amounts are 125.5 and 120.0, which belong to customers C001 and C003.\n",
      "\n",
      "Next, let's find the difference in payment dates between these two customers. Customer C001 made a payment on \"2021-10-05\" and Customer C003 made a payment on \"2021-10-07\".\n",
      "\n",
      "To calculate the difference, we can subtract the earlier date from the later date. So, the difference in payment dates between C001 and C003 is 2 days.\n"
     ]
    }
   ],
   "source": [
    "print(response_large)"
   ]
  },
  {
   "cell_type": "code",
   "execution_count": 33,
   "id": "85a8fdd4-1149-45bc-9302-f5997e9a12f1",
   "metadata": {},
   "outputs": [],
   "source": [
    "response_XL=mistral(prompt, \"mistral-large-latest\")"
   ]
  },
  {
   "cell_type": "code",
   "execution_count": 34,
   "id": "3962a2c8-9951-41fd-9a0a-6ce0fa0a6c51",
   "metadata": {},
   "outputs": [
    {
     "name": "stdout",
     "output_type": "stream",
     "text": [
      "To calculate the difference of payment dates between two customers whose payment amounts are closest to each other, follow these steps:\n",
      "\n",
      "1. **Identify the Closest Payment Amounts:**\n",
      "   - List the payment amounts: 125.5, 89.99, 120.0, 54.3, 210.2.\n",
      "   - Calculate the differences between each pair of payment amounts.\n",
      "   - Find the pair with the smallest difference.\n",
      "\n",
      "2. **Calculate the Difference in Payment Dates:**\n",
      "   - Identify the payment dates corresponding to the closest payment amounts.\n",
      "   - Calculate the difference in days between these dates.\n",
      "\n",
      "### Step-by-Step Solution:\n",
      "\n",
      "1. **List the Payment Amounts:**\n",
      "   - 125.5, 89.99, 120.0, 54.3, 210.2\n",
      "\n",
      "2. **Calculate the Differences Between Each Pair:**\n",
      "   - |125.5 - 89.99| = 35.51\n",
      "   - |125.5 - 120.0| = 5.5\n",
      "   - |125.5 - 54.3| = 71.2\n",
      "   - |125.5 - 210.2| = 84.7\n",
      "   - |89.99 - 120.0| = 30.01\n",
      "   - |89.99 - 54.3| = 35.69\n",
      "   - |89.99 - 210.2| = 120.21\n",
      "   - |120.0 - 54.3| = 65.7\n",
      "   - |120.0 - 210.2| = 90.2\n",
      "   - |54.3 - 210.2| = 155.9\n",
      "\n",
      "3. **Find the Pair with the Smallest Difference:**\n",
      "   - The smallest difference is 5.5, which is between 125.5 and 120.0.\n",
      "\n",
      "4. **Identify the Corresponding Payment Dates:**\n",
      "   - Payment amount 125.5 corresponds to the date \"2021-10-05\".\n",
      "   - Payment amount 120.0 corresponds to the date \"2021-10-07\".\n",
      "\n",
      "5. **Calculate the Difference in Days:**\n",
      "   - The difference between \"2021-10-05\" and \"2021-10-07\" is 2 days.\n",
      "\n",
      "### Conclusion:\n",
      "The difference in payment dates between the two customers whose payment amounts are closest to each other is **2 days**.\n"
     ]
    }
   ],
   "source": [
    "print(response_XL)"
   ]
  },
  {
   "cell_type": "code",
   "execution_count": 39,
   "id": "96c4b491-a779-4a77-8652-a389a099a703",
   "metadata": {},
   "outputs": [],
   "source": [
    "transactions = \"\"\"\n",
    "MCDonald's: 100\n",
    "FastTag: 300\n",
    "Movie: 400\n",
    "KFC: 3000\n",
    "Pots: 12\n",
    "Plants:23\n",
    "Eggs: 4.5\n",
    "Water bottle: 12\n",
    "PVR Multiplex:34\n",
    "\"\"\"\n",
    "\n",
    "prompt = f\"\"\"\n",
    "Given purchase details, how much did  I spend on each category:\n",
    "1) Restaurents\n",
    "2) Grocery\n",
    "3) Garden\n",
    "{transactions}\n",
    "\"\"\"\n",
    "\n"
   ]
  },
  {
   "cell_type": "code",
   "execution_count": 40,
   "id": "4383f327-5b5b-40eb-8115-eb2e7ba797d5",
   "metadata": {},
   "outputs": [],
   "source": [
    "response_S = mistral(prompt, model=\"mistral-small-latest\")"
   ]
  },
  {
   "cell_type": "code",
   "execution_count": 41,
   "id": "f81cdc6f-a53d-4b6a-894f-0fa5ce5d407e",
   "metadata": {},
   "outputs": [
    {
     "name": "stdout",
     "output_type": "stream",
     "text": [
      "To categorize your purchases, I have grouped them as follows:\n",
      "\n",
      "1) Restaurants:\n",
      "   - McDonald's: 100\n",
      "   - KFC: 3000\n",
      "\n",
      "Total spent on Restaurants: 3100\n",
      "\n",
      "2) Grocery:\n",
      "   - Eggs: 4.5\n",
      "   - Water bottle: 12\n",
      "\n",
      "Total spent on Grocery: 16.5\n",
      "\n",
      "3) Garden:\n",
      "   - Pots: 12\n",
      "   - Plants: 23\n",
      "\n",
      "Total spent on Garden: 35\n",
      "\n",
      "So, you spent a total of 3100 on Restaurants, 16.5 on Grocery and 35 on Garden.\n"
     ]
    }
   ],
   "source": [
    "print(response_S)"
   ]
  },
  {
   "cell_type": "markdown",
   "id": "8757a5f7-5b52-446a-8bc9-96bed50715f2",
   "metadata": {},
   "source": [
    "List of Mistral models that you can call:\n",
    "You can also call the two open source mistral models via API calls. Here is the list of models that you can try:\n",
    "\n",
    "open-mistral-7b\n",
    "open-mixtral-8x7b\n",
    "open-mixtral-8x22b\n",
    "mistral-small-latest\n",
    "mistral-medium-latest\n",
    "mistral-large-latest\n",
    "For example:\n",
    "\n",
    "mistral(prompt, model=\"open-mixtral-8x22b\")\n",
    "Note that we just released the open-mixtral-8x22b model. Check out our release blog for details."
   ]
  },
  {
   "cell_type": "code",
   "execution_count": null,
   "id": "2451e286-c9d9-4cee-bf35-c1a0d35c86c8",
   "metadata": {},
   "outputs": [],
   "source": []
  }
 ],
 "metadata": {
  "kernelspec": {
   "display_name": "Python 3 (ipykernel)",
   "language": "python",
   "name": "python3"
  },
  "language_info": {
   "codemirror_mode": {
    "name": "ipython",
    "version": 3
   },
   "file_extension": ".py",
   "mimetype": "text/x-python",
   "name": "python",
   "nbconvert_exporter": "python",
   "pygments_lexer": "ipython3",
   "version": "3.9.10"
  }
 },
 "nbformat": 4,
 "nbformat_minor": 5
}
