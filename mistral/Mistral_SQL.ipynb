{
 "cells": [
  {
   "cell_type": "code",
   "execution_count": 1,
   "id": "014a42a2-324a-4ed4-aa23-1d734dbbf7d9",
   "metadata": {},
   "outputs": [
    {
     "name": "stdout",
     "output_type": "stream",
     "text": [
      "Requirement already satisfied: mistralai in c:\\users\\91998\\pycharmprojects\\pythonproject\\venv\\lib\\site-packages (0.4.2)\n",
      "Requirement already satisfied: httpx<1,>=0.25 in c:\\users\\91998\\pycharmprojects\\pythonproject\\venv\\lib\\site-packages (from mistralai) (0.27.0)\n",
      "Requirement already satisfied: orjson<3.11,>=3.9.10 in c:\\users\\91998\\pycharmprojects\\pythonproject\\venv\\lib\\site-packages (from mistralai) (3.10.6)\n",
      "Requirement already satisfied: pydantic<3,>=2.5.2 in c:\\users\\91998\\pycharmprojects\\pythonproject\\venv\\lib\\site-packages (from mistralai) (2.8.2)\n",
      "Requirement already satisfied: anyio in c:\\users\\91998\\pycharmprojects\\pythonproject\\venv\\lib\\site-packages (from httpx<1,>=0.25->mistralai) (4.4.0)\n",
      "Requirement already satisfied: certifi in c:\\users\\91998\\pycharmprojects\\pythonproject\\venv\\lib\\site-packages (from httpx<1,>=0.25->mistralai) (2024.7.4)\n",
      "Requirement already satisfied: httpcore==1.* in c:\\users\\91998\\pycharmprojects\\pythonproject\\venv\\lib\\site-packages (from httpx<1,>=0.25->mistralai) (1.0.5)\n",
      "Requirement already satisfied: idna in c:\\users\\91998\\pycharmprojects\\pythonproject\\venv\\lib\\site-packages (from httpx<1,>=0.25->mistralai) (3.7)\n",
      "Requirement already satisfied: sniffio in c:\\users\\91998\\pycharmprojects\\pythonproject\\venv\\lib\\site-packages (from httpx<1,>=0.25->mistralai) (1.3.1)\n",
      "Requirement already satisfied: h11<0.15,>=0.13 in c:\\users\\91998\\pycharmprojects\\pythonproject\\venv\\lib\\site-packages (from httpcore==1.*->httpx<1,>=0.25->mistralai) (0.14.0)\n",
      "Requirement already satisfied: annotated-types>=0.4.0 in c:\\users\\91998\\pycharmprojects\\pythonproject\\venv\\lib\\site-packages (from pydantic<3,>=2.5.2->mistralai) (0.7.0)\n",
      "Requirement already satisfied: pydantic-core==2.20.1 in c:\\users\\91998\\pycharmprojects\\pythonproject\\venv\\lib\\site-packages (from pydantic<3,>=2.5.2->mistralai) (2.20.1)\n",
      "Requirement already satisfied: typing-extensions>=4.6.1 in c:\\users\\91998\\pycharmprojects\\pythonproject\\venv\\lib\\site-packages (from pydantic<3,>=2.5.2->mistralai) (4.12.2)\n",
      "Requirement already satisfied: exceptiongroup>=1.0.2 in c:\\users\\91998\\pycharmprojects\\pythonproject\\venv\\lib\\site-packages (from anyio->httpx<1,>=0.25->mistralai) (1.2.2)\n"
     ]
    },
    {
     "name": "stderr",
     "output_type": "stream",
     "text": [
      "\n",
      "[notice] A new release of pip is available: 24.1.2 -> 24.2\n",
      "[notice] To update, run: python.exe -m pip install --upgrade pip\n"
     ]
    }
   ],
   "source": [
    "!pip install mistralai\n"
   ]
  },
  {
   "cell_type": "code",
   "execution_count": 7,
   "id": "4972864a-440b-43d4-a78d-772e2f26018b",
   "metadata": {},
   "outputs": [],
   "source": [
    "import os\n",
    "from mistralai.client import MistralClient\n",
    "from mistralai.models.chat_completion import ChatMessage\n",
    "\n",
    "api_key = \"{API_KEY}\"\n",
    "\n",
    "\n",
    "def mistral(user_message, model=\"mistral-small-latest\", is_json=False):\n",
    "    client = MistralClient(api_key=api_key)\n",
    "    messages = [ChatMessage(role=\"user\", content=user_message)]\n",
    "\n",
    "    if is_json:\n",
    "        chat_response = client.chat(\n",
    "            model=model, messages=messages, response_format={\"type\": \"json_object\"}\n",
    "        )\n",
    "    else:\n",
    "        chat_response = client.chat(model=model, messages=messages)\n",
    "\n",
    "    return chat_response.choices[0].message.content"
   ]
  },
  {
   "cell_type": "code",
   "execution_count": 8,
   "id": "15cfef0a-2c00-4878-9041-76b46484da3f",
   "metadata": {},
   "outputs": [],
   "source": [
    "prompt_template =  \"\"\"\n",
    "I have a database with the following schema:\n",
    "\n",
    "**Movies Table**\n",
    "- movie_id: Integer, Primary Key\n",
    "- title: String\n",
    "- genre: String\n",
    "- release_year: Integer\n",
    "- rating: Decimal (3,1)\n",
    "- director: String\n",
    "\n",
    "**Actors Table**\n",
    "- actor_id: Integer, Primary Key\n",
    "- name: String\n",
    "- birth_year: Integer\n",
    "\n",
    "**Cast Table**\n",
    "- movie_id: Integer, Foreign Key (Movies)\n",
    "- actor_id: Integer, Foreign Key (Actors)\n",
    "- role: String\n",
    "\n",
    "Please convert the following natural language query into SQL:\n",
    "\n",
    "**Example 1:**\n",
    "- **Input:** \"List all movies released in 1993.\"\n",
    "- **SQL Query:** SELECT title FROM Movies WHERE release_year = 1993;\n",
    "\n",
    "**Example 2:**\n",
    "- **Input:** \"Find the names of actors who starred in the movie 'Jurassic Park'.\"\n",
    "- **SQL Query:** SELECT Actors.name FROM Actors JOIN Cast ON Actors.actor_id = Cast.actor_id JOIN Movies ON Cast.movie_id = Movies.movie_id WHERE Movies.title = 'Jurassic Park';\n",
    "\n",
    "**Natural Language Query:**\n",
    "- {user_query}\n",
    "\"\"\""
   ]
  },
  {
   "cell_type": "code",
   "execution_count": 9,
   "id": "bcdc7d47-0b72-4550-a641-5e7dc1dca30a",
   "metadata": {},
   "outputs": [],
   "source": [
    "user_query = \"List all movies released in 2002.\""
   ]
  },
  {
   "cell_type": "code",
   "execution_count": 10,
   "id": "85fe8ca0-ffc5-487c-8f73-595489ebd770",
   "metadata": {},
   "outputs": [],
   "source": [
    "formatted_prompt = prompt_template.format(user_query=user_query)"
   ]
  },
  {
   "cell_type": "code",
   "execution_count": 11,
   "id": "58fd2961-06b0-40e0-a78f-42792a542e96",
   "metadata": {},
   "outputs": [],
   "source": [
    "response_S = mistral(formatted_prompt, model=\"mistral-small-latest\")"
   ]
  },
  {
   "cell_type": "code",
   "execution_count": 12,
   "id": "64daddf2-b160-4336-a84f-060e7ffc5b75",
   "metadata": {},
   "outputs": [
    {
     "name": "stdout",
     "output_type": "stream",
     "text": [
      "**SQL Query:** SELECT title FROM Movies WHERE release_year = 2002;\n"
     ]
    }
   ],
   "source": [
    "print(response_S)"
   ]
  },
  {
   "cell_type": "code",
   "execution_count": 16,
   "id": "3a5735a2-6159-4572-a942-947bb5428ffc",
   "metadata": {},
   "outputs": [],
   "source": [
    "user_query2 = \"Determine the role played by Tom Hanks in the movies.\"\n",
    "formatted_prompt = prompt_template.format(user_query=user_query2)"
   ]
  },
  {
   "cell_type": "code",
   "execution_count": 17,
   "id": "2beb386f-09af-4ca4-ac5d-65c808806dec",
   "metadata": {},
   "outputs": [],
   "source": [
    "response_L = mistral(formatted_prompt, model=\"mistral-large-latest\")"
   ]
  },
  {
   "cell_type": "code",
   "execution_count": 18,
   "id": "456f5036-452f-4965-96f2-8b8525dfbc0c",
   "metadata": {},
   "outputs": [
    {
     "name": "stdout",
     "output_type": "stream",
     "text": [
      "To determine the role played by Tom Hanks in the movies, you can use the following SQL query:\n",
      "\n",
      "```sql\n",
      "SELECT Movies.title, Cast.role\n",
      "FROM Movies\n",
      "JOIN Cast ON Movies.movie_id = Cast.movie_id\n",
      "JOIN Actors ON Cast.actor_id = Actors.actor_id\n",
      "WHERE Actors.name = 'Tom Hanks';\n",
      "```\n",
      "\n",
      "This query joins the `Movies`, `Cast`, and `Actors` tables to find the titles of the movies and the roles played by Tom Hanks.\n"
     ]
    }
   ],
   "source": [
    "print(response_L)"
   ]
  }
 ],
 "metadata": {
  "kernelspec": {
   "display_name": "Python 3 (ipykernel)",
   "language": "python",
   "name": "python3"
  },
  "language_info": {
   "codemirror_mode": {
    "name": "ipython",
    "version": 3
   },
   "file_extension": ".py",
   "mimetype": "text/x-python",
   "name": "python",
   "nbconvert_exporter": "python",
   "pygments_lexer": "ipython3",
   "version": "3.9.10"
  }
 },
 "nbformat": 4,
 "nbformat_minor": 5
}
